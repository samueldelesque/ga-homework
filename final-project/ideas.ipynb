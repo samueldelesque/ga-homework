{
 "cells": [
  {
   "cell_type": "markdown",
   "metadata": {},
   "source": [
    "### Reviews vs Business values\n",
    "- Do businesses with better reviews stay open longer?\n",
    "- \n",
    "\n",
    "\n",
    "### Lokely extract \n",
    "- relate usage with messages received\n",
    "- sentiment analysis to see if a recommendation was well received\n",
    "- \n",
    "\n",
    "\n",
    "### ChatBot spacy domain extractor + improved domain models\n",
    "- analyzing sentiment in message n+1 in convesation history to see if response was satisfactory\n",
    "- \n",
    "\n"
   ]
  },
  {
   "cell_type": "code",
   "execution_count": null,
   "metadata": {
    "collapsed": true
   },
   "outputs": [],
   "source": []
  }
 ],
 "metadata": {
  "kernelspec": {
   "display_name": "Python 2",
   "language": "python",
   "name": "python2"
  },
  "language_info": {
   "codemirror_mode": {
    "name": "ipython",
    "version": 2
   },
   "file_extension": ".py",
   "mimetype": "text/x-python",
   "name": "python",
   "nbconvert_exporter": "python",
   "pygments_lexer": "ipython2",
   "version": "2.7.12"
  }
 },
 "nbformat": 4,
 "nbformat_minor": 0
}
