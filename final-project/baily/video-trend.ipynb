{
 "cells": [
  {
   "cell_type": "code",
   "execution_count": 2,
   "metadata": {
    "collapsed": true
   },
   "outputs": [],
   "source": [
    "%matplotlib inline\n",
    "import pandas as pd\n",
    "import numpy as np\n",
    "import pymongo\n",
    "from textblob import TextBlob\n",
    "import datetime\n",
    "import seaborn as sns\n",
    "import matplotlib.pyplot as plt\n",
    "from math import log1p, isnan\n",
    "from sklearn.feature_extraction.text import TfidfVectorizer, CountVectorizer, TfidfTransformer\n",
    "from sklearn.linear_model import LogisticRegression\n",
    "from sklearn.decomposition import NMF, LatentDirichletAllocation\n",
    "from sklearn.naive_bayes import MultinomialNB\n",
    "from sklearn.pipeline import Pipeline\n",
    "import os\n",
    "import re"
   ]
  },
  {
   "cell_type": "code",
   "execution_count": 3,
   "metadata": {
    "collapsed": false
   },
   "outputs": [
    {
     "name": "stdout",
     "output_type": "stream",
     "text": [
      "title             9998\n",
      "views_total       9998\n",
      "views_per_hour    9998\n",
      "created_time      9998\n",
      "country           9998\n",
      "dtype: int64\n"
     ]
    },
    {
     "data": {
      "text/html": [
       "<div>\n",
       "<table border=\"1\" class=\"dataframe\">\n",
       "  <thead>\n",
       "    <tr style=\"text-align: right;\">\n",
       "      <th></th>\n",
       "      <th>title</th>\n",
       "      <th>views_total</th>\n",
       "      <th>views_per_hour</th>\n",
       "      <th>created_time</th>\n",
       "      <th>country</th>\n",
       "    </tr>\n",
       "  </thead>\n",
       "  <tbody>\n",
       "    <tr>\n",
       "      <th>0</th>\n",
       "      <td>Le tchat Facebook est encore plus simple depui...</td>\n",
       "      <td>6483800</td>\n",
       "      <td>165.186959</td>\n",
       "      <td>1333024241</td>\n",
       "      <td></td>\n",
       "    </tr>\n",
       "    <tr>\n",
       "      <th>1</th>\n",
       "      <td>SK vs dignitas GRAND FINAL 99Damage Masters Pl...</td>\n",
       "      <td>6737329</td>\n",
       "      <td>430.931061</td>\n",
       "      <td>1418045182</td>\n",
       "      <td>DE</td>\n",
       "    </tr>\n",
       "    <tr>\n",
       "      <th>2</th>\n",
       "      <td>Discutez. Partagez. Soyez complices. Tout simp...</td>\n",
       "      <td>7053032</td>\n",
       "      <td>187.750597</td>\n",
       "      <td>1339091391</td>\n",
       "      <td></td>\n",
       "    </tr>\n",
       "    <tr>\n",
       "      <th>3</th>\n",
       "      <td>Baby Panda Sneezing</td>\n",
       "      <td>24397134</td>\n",
       "      <td>1060.919978</td>\n",
       "      <td>1391542518</td>\n",
       "      <td>FR</td>\n",
       "    </tr>\n",
       "    <tr>\n",
       "      <th>4</th>\n",
       "      <td>ALLAH ka mojza</td>\n",
       "      <td>6594888</td>\n",
       "      <td>578.065872</td>\n",
       "      <td>1433258112</td>\n",
       "      <td>US</td>\n",
       "    </tr>\n",
       "  </tbody>\n",
       "</table>\n",
       "</div>"
      ],
      "text/plain": [
       "                                               title  views_total  \\\n",
       "0  Le tchat Facebook est encore plus simple depui...      6483800   \n",
       "1  SK vs dignitas GRAND FINAL 99Damage Masters Pl...      6737329   \n",
       "2  Discutez. Partagez. Soyez complices. Tout simp...      7053032   \n",
       "3                                Baby Panda Sneezing     24397134   \n",
       "4                                     ALLAH ka mojza      6594888   \n",
       "\n",
       "   views_per_hour  created_time country  \n",
       "0      165.186959    1333024241          \n",
       "1      430.931061    1418045182      DE  \n",
       "2      187.750597    1339091391          \n",
       "3     1060.919978    1391542518      FR  \n",
       "4      578.065872    1433258112      US  "
      ]
     },
     "execution_count": 3,
     "metadata": {},
     "output_type": "execute_result"
    }
   ],
   "source": [
    "dbcon = pymongo.MongoClient(os.getenv('BAILY_MONGO_URI'))\n",
    "video_fields = [\"title\",\"views_total\", \"views_per_hour\", \"created_time\", \"country\"]\n",
    "videos = pd.DataFrame(list(dbcon['chatbox-dev'].videos.find()), columns=video_fields).dropna()\n",
    "print videos.count()\n",
    "videos.head()"
   ]
  },
  {
   "cell_type": "code",
   "execution_count": 4,
   "metadata": {
    "collapsed": true
   },
   "outputs": [],
   "source": [
    "black_list = [\n",
    "    'pdf',\n",
    "    'download',\n",
    "    'ebook',\n",
    "    'online',\n",
    "    'read',\n",
    "    'full movie',\n",
    "    'book',\n",
    "    'buy',\n",
    "    'fuck',\n",
    "    'cams',\n",
    "    'webcam',\n",
    "    'boob',\n",
    "    'sex',\n",
    "    'follow',\n",
    "]\n",
    "\n",
    "regexes = [re.compile(' ' + word + ' ', re.IGNORECASE) for word in black_list]"
   ]
  },
  {
   "cell_type": "code",
   "execution_count": 5,
   "metadata": {
    "collapsed": false
   },
   "outputs": [],
   "source": [
    "url = r'([\\da-z\\.-]+\\.[a-z\\.]{2,6})'\n",
    "\n",
    "index = 0\n",
    "has_blacklist_words = []\n",
    "title_lengths = []\n",
    "title_caps_percents = []\n",
    "link_counts = []\n",
    "subjectivities = []\n",
    "polarities = []\n",
    "view_logs = []\n",
    "hour_uploaded = []\n",
    "\n",
    "texts = []\n",
    "\n",
    "for i in range(len(videos)):\n",
    "    \n",
    "    title = videos.ix[i].title\n",
    "    \n",
    "    has_b = False\n",
    "    for regex in regexes:\n",
    "        if regex.search(title):\n",
    "            has_b = True\n",
    "            \n",
    "    has_blacklist_words.append(has_b)\n",
    "    texts.append(title)\n",
    "            \n",
    "    title_lengths.append(len(title))\n",
    "    caps_count = float(sum(1 for c in title if c.isupper()))\n",
    "    title_caps_percents.append(caps_count/float(len(title)))\n",
    "    link_counts.append(len(re.findall(url, title)))\n",
    "    \n",
    "    tb = TextBlob(title)\n",
    "    subjectivities.append(tb.sentiment.subjectivity)\n",
    "    polarities.append(tb.sentiment.polarity)\n",
    "    \n",
    "    hour_uploaded\n",
    "    \n",
    "    lp = log1p(videos['views_total'][index])\n",
    "    if not isnan(lp):\n",
    "        view_logs.append(lp/10)\n",
    "    else:\n",
    "        view_logs.append(0)\n",
    "            \n",
    "    index = index + 1\n",
    "    \n",
    "videos['has_blacklist_words'] = has_blacklist_words\n",
    "videos['title_length'] = title_lengths\n",
    "videos['title_caps_percent'] = title_caps_percents\n",
    "videos['link_count'] = link_counts\n",
    "videos['subjectivity'] = subjectivities\n",
    "videos['polarity'] = polarities\n",
    "videos['views_score'] = view_logs\n"
   ]
  },
  {
   "cell_type": "code",
   "execution_count": 6,
   "metadata": {
    "collapsed": false
   },
   "outputs": [
    {
     "data": {
      "text/html": [
       "<div>\n",
       "<table border=\"1\" class=\"dataframe\">\n",
       "  <thead>\n",
       "    <tr style=\"text-align: right;\">\n",
       "      <th></th>\n",
       "      <th>views_total</th>\n",
       "      <th>views_per_hour</th>\n",
       "      <th>created_time</th>\n",
       "      <th>has_blacklist_words</th>\n",
       "      <th>title_length</th>\n",
       "      <th>title_caps_percent</th>\n",
       "      <th>link_count</th>\n",
       "      <th>subjectivity</th>\n",
       "      <th>polarity</th>\n",
       "      <th>views_score</th>\n",
       "    </tr>\n",
       "  </thead>\n",
       "  <tbody>\n",
       "    <tr>\n",
       "      <th>views_total</th>\n",
       "      <td>1.000000</td>\n",
       "      <td>0.514769</td>\n",
       "      <td>0.034341</td>\n",
       "      <td>0.006058</td>\n",
       "      <td>0.005190</td>\n",
       "      <td>0.011005</td>\n",
       "      <td>-0.025188</td>\n",
       "      <td>0.021160</td>\n",
       "      <td>0.028835</td>\n",
       "      <td>0.607677</td>\n",
       "    </tr>\n",
       "    <tr>\n",
       "      <th>views_per_hour</th>\n",
       "      <td>0.514769</td>\n",
       "      <td>1.000000</td>\n",
       "      <td>0.262845</td>\n",
       "      <td>-0.000584</td>\n",
       "      <td>0.035396</td>\n",
       "      <td>-0.008691</td>\n",
       "      <td>-0.043153</td>\n",
       "      <td>0.026565</td>\n",
       "      <td>0.023839</td>\n",
       "      <td>0.402381</td>\n",
       "    </tr>\n",
       "    <tr>\n",
       "      <th>created_time</th>\n",
       "      <td>0.034341</td>\n",
       "      <td>0.262845</td>\n",
       "      <td>1.000000</td>\n",
       "      <td>0.028395</td>\n",
       "      <td>0.286858</td>\n",
       "      <td>-0.042318</td>\n",
       "      <td>-0.080120</td>\n",
       "      <td>0.143304</td>\n",
       "      <td>0.080716</td>\n",
       "      <td>0.077324</td>\n",
       "    </tr>\n",
       "    <tr>\n",
       "      <th>has_blacklist_words</th>\n",
       "      <td>0.006058</td>\n",
       "      <td>-0.000584</td>\n",
       "      <td>0.028395</td>\n",
       "      <td>1.000000</td>\n",
       "      <td>0.089486</td>\n",
       "      <td>0.015903</td>\n",
       "      <td>0.011518</td>\n",
       "      <td>0.074337</td>\n",
       "      <td>0.076787</td>\n",
       "      <td>0.018838</td>\n",
       "    </tr>\n",
       "    <tr>\n",
       "      <th>title_length</th>\n",
       "      <td>0.005190</td>\n",
       "      <td>0.035396</td>\n",
       "      <td>0.286858</td>\n",
       "      <td>0.089486</td>\n",
       "      <td>1.000000</td>\n",
       "      <td>0.112844</td>\n",
       "      <td>0.060549</td>\n",
       "      <td>0.285106</td>\n",
       "      <td>0.130600</td>\n",
       "      <td>0.015322</td>\n",
       "    </tr>\n",
       "    <tr>\n",
       "      <th>title_caps_percent</th>\n",
       "      <td>0.011005</td>\n",
       "      <td>-0.008691</td>\n",
       "      <td>-0.042318</td>\n",
       "      <td>0.015903</td>\n",
       "      <td>0.112844</td>\n",
       "      <td>1.000000</td>\n",
       "      <td>-0.049117</td>\n",
       "      <td>0.111080</td>\n",
       "      <td>0.040124</td>\n",
       "      <td>0.023835</td>\n",
       "    </tr>\n",
       "    <tr>\n",
       "      <th>link_count</th>\n",
       "      <td>-0.025188</td>\n",
       "      <td>-0.043153</td>\n",
       "      <td>-0.080120</td>\n",
       "      <td>0.011518</td>\n",
       "      <td>0.060549</td>\n",
       "      <td>-0.049117</td>\n",
       "      <td>1.000000</td>\n",
       "      <td>-0.051260</td>\n",
       "      <td>-0.012006</td>\n",
       "      <td>-0.065437</td>\n",
       "    </tr>\n",
       "    <tr>\n",
       "      <th>subjectivity</th>\n",
       "      <td>0.021160</td>\n",
       "      <td>0.026565</td>\n",
       "      <td>0.143304</td>\n",
       "      <td>0.074337</td>\n",
       "      <td>0.285106</td>\n",
       "      <td>0.111080</td>\n",
       "      <td>-0.051260</td>\n",
       "      <td>1.000000</td>\n",
       "      <td>0.353229</td>\n",
       "      <td>0.026088</td>\n",
       "    </tr>\n",
       "    <tr>\n",
       "      <th>polarity</th>\n",
       "      <td>0.028835</td>\n",
       "      <td>0.023839</td>\n",
       "      <td>0.080716</td>\n",
       "      <td>0.076787</td>\n",
       "      <td>0.130600</td>\n",
       "      <td>0.040124</td>\n",
       "      <td>-0.012006</td>\n",
       "      <td>0.353229</td>\n",
       "      <td>1.000000</td>\n",
       "      <td>0.024087</td>\n",
       "    </tr>\n",
       "    <tr>\n",
       "      <th>views_score</th>\n",
       "      <td>0.607677</td>\n",
       "      <td>0.402381</td>\n",
       "      <td>0.077324</td>\n",
       "      <td>0.018838</td>\n",
       "      <td>0.015322</td>\n",
       "      <td>0.023835</td>\n",
       "      <td>-0.065437</td>\n",
       "      <td>0.026088</td>\n",
       "      <td>0.024087</td>\n",
       "      <td>1.000000</td>\n",
       "    </tr>\n",
       "  </tbody>\n",
       "</table>\n",
       "</div>"
      ],
      "text/plain": [
       "                     views_total  views_per_hour  created_time  \\\n",
       "views_total             1.000000        0.514769      0.034341   \n",
       "views_per_hour          0.514769        1.000000      0.262845   \n",
       "created_time            0.034341        0.262845      1.000000   \n",
       "has_blacklist_words     0.006058       -0.000584      0.028395   \n",
       "title_length            0.005190        0.035396      0.286858   \n",
       "title_caps_percent      0.011005       -0.008691     -0.042318   \n",
       "link_count             -0.025188       -0.043153     -0.080120   \n",
       "subjectivity            0.021160        0.026565      0.143304   \n",
       "polarity                0.028835        0.023839      0.080716   \n",
       "views_score             0.607677        0.402381      0.077324   \n",
       "\n",
       "                     has_blacklist_words  title_length  title_caps_percent  \\\n",
       "views_total                     0.006058      0.005190            0.011005   \n",
       "views_per_hour                 -0.000584      0.035396           -0.008691   \n",
       "created_time                    0.028395      0.286858           -0.042318   \n",
       "has_blacklist_words             1.000000      0.089486            0.015903   \n",
       "title_length                    0.089486      1.000000            0.112844   \n",
       "title_caps_percent              0.015903      0.112844            1.000000   \n",
       "link_count                      0.011518      0.060549           -0.049117   \n",
       "subjectivity                    0.074337      0.285106            0.111080   \n",
       "polarity                        0.076787      0.130600            0.040124   \n",
       "views_score                     0.018838      0.015322            0.023835   \n",
       "\n",
       "                     link_count  subjectivity  polarity  views_score  \n",
       "views_total           -0.025188      0.021160  0.028835     0.607677  \n",
       "views_per_hour        -0.043153      0.026565  0.023839     0.402381  \n",
       "created_time          -0.080120      0.143304  0.080716     0.077324  \n",
       "has_blacklist_words    0.011518      0.074337  0.076787     0.018838  \n",
       "title_length           0.060549      0.285106  0.130600     0.015322  \n",
       "title_caps_percent    -0.049117      0.111080  0.040124     0.023835  \n",
       "link_count             1.000000     -0.051260 -0.012006    -0.065437  \n",
       "subjectivity          -0.051260      1.000000  0.353229     0.026088  \n",
       "polarity              -0.012006      0.353229  1.000000     0.024087  \n",
       "views_score           -0.065437      0.026088  0.024087     1.000000  "
      ]
     },
     "execution_count": 6,
     "metadata": {},
     "output_type": "execute_result"
    }
   ],
   "source": [
    "videos.corr()"
   ]
  },
  {
   "cell_type": "code",
   "execution_count": 7,
   "metadata": {
    "collapsed": false
   },
   "outputs": [
    {
     "data": {
      "text/plain": [
       "<seaborn.axisgrid.JointGrid at 0x103f51e90>"
      ]
     },
     "execution_count": 7,
     "metadata": {},
     "output_type": "execute_result"
    },
    {
     "data": {
      "image/png": "[encoded data removed]",
      "text/plain": [
       "<matplotlib.figure.Figure at 0x117714b10>"
      ]
     },
     "metadata": {},
     "output_type": "display_data"
    }
   ],
   "source": [
    "sns.jointplot(y='views_per_hour', x='title_length', data=videos, kind=\"reg\")"
   ]
  },
  {
   "cell_type": "code",
   "execution_count": 8,
   "metadata": {
    "collapsed": false
   },
   "outputs": [
    {
     "data": {
      "text/plain": [
       "count    9998.000000\n",
       "mean       27.580600\n",
       "std        69.799420\n",
       "min         1.886071\n",
       "25%         6.703339\n",
       "50%        12.887659\n",
       "75%        26.253145\n",
       "max      2705.214341\n",
       "Name: views_per_hour, dtype: float64"
      ]
     },
     "execution_count": 8,
     "metadata": {},
     "output_type": "execute_result"
    }
   ],
   "source": [
    "videos.views_per_hour.describe()"
   ]
  },
  {
   "cell_type": "code",
   "execution_count": 9,
   "metadata": {
    "collapsed": false
   },
   "outputs": [
    {
     "data": {
      "text/plain": [
       "count    9998.000000\n",
       "mean        6.793559\n",
       "std         2.377538\n",
       "min         2.000000\n",
       "25%         5.000000\n",
       "50%         7.000000\n",
       "75%         8.000000\n",
       "max        13.000000\n",
       "Name: views_level, dtype: float64"
      ]
     },
     "execution_count": 9,
     "metadata": {},
     "output_type": "execute_result"
    }
   ],
   "source": [
    "views_level = []\n",
    "\n",
    "for i in range(0,len(videos)):\n",
    "    if(videos.ix[i].views_per_hour > 1000):\n",
    "        views_level.append(13)\n",
    "    elif(videos.ix[i].views_per_hour > 200):\n",
    "        views_level.append(12)\n",
    "    elif(videos.ix[i].views_per_hour > 50):\n",
    "        views_level.append(11)\n",
    "    elif(videos.ix[i].views_per_hour > 40):\n",
    "        views_level.append(10)\n",
    "    elif(videos.ix[i].views_per_hour > 30):\n",
    "        views_level.append(9)\n",
    "    elif(videos.ix[i].views_per_hour > 20):\n",
    "        views_level.append(8)\n",
    "    elif(videos.ix[i].views_per_hour > 10):\n",
    "        views_level.append(7)\n",
    "    elif(videos.ix[i].views_per_hour > 8):\n",
    "        views_level.append(6)\n",
    "    elif(videos.ix[i].views_per_hour > 6):\n",
    "        views_level.append(5)\n",
    "    elif(videos.ix[i].views_per_hour > 4):\n",
    "        views_level.append(4)\n",
    "    elif(videos.ix[i].views_per_hour > 2):\n",
    "        views_level.append(3)\n",
    "    elif(videos.ix[i].views_per_hour > 1):\n",
    "        views_level.append(2)\n",
    "    elif(videos.ix[i].views_per_hour > 0.5):\n",
    "        views_level.append(1)\n",
    "    else:\n",
    "        views_high.append(0)\n",
    "\n",
    "\n",
    "videos['views_level'] = views_level\n",
    "videos['views_level'].describe()"
   ]
  },
  {
   "cell_type": "code",
   "execution_count": 10,
   "metadata": {
    "collapsed": false
   },
   "outputs": [
    {
     "data": {
      "text/html": [
       "<div>\n",
       "<table border=\"1\" class=\"dataframe\">\n",
       "  <thead>\n",
       "    <tr style=\"text-align: right;\">\n",
       "      <th></th>\n",
       "      <th>title</th>\n",
       "      <th>views_total</th>\n",
       "      <th>views_per_hour</th>\n",
       "      <th>created_time</th>\n",
       "      <th>country</th>\n",
       "      <th>has_blacklist_words</th>\n",
       "      <th>title_length</th>\n",
       "      <th>title_caps_percent</th>\n",
       "      <th>link_count</th>\n",
       "      <th>subjectivity</th>\n",
       "      <th>polarity</th>\n",
       "      <th>views_score</th>\n",
       "      <th>views_level</th>\n",
       "    </tr>\n",
       "    <tr>\n",
       "      <th>time_index</th>\n",
       "      <th></th>\n",
       "      <th></th>\n",
       "      <th></th>\n",
       "      <th></th>\n",
       "      <th></th>\n",
       "      <th></th>\n",
       "      <th></th>\n",
       "      <th></th>\n",
       "      <th></th>\n",
       "      <th></th>\n",
       "      <th></th>\n",
       "      <th></th>\n",
       "      <th></th>\n",
       "    </tr>\n",
       "  </thead>\n",
       "  <tbody>\n",
       "    <tr>\n",
       "      <th>2012-03-29 12:30:41</th>\n",
       "      <td>Le tchat Facebook est encore plus simple depui...</td>\n",
       "      <td>6483800</td>\n",
       "      <td>165.186959</td>\n",
       "      <td>1333024241</td>\n",
       "      <td></td>\n",
       "      <td>False</td>\n",
       "      <td>57</td>\n",
       "      <td>0.052632</td>\n",
       "      <td>0</td>\n",
       "      <td>0.357143</td>\n",
       "      <td>0.00</td>\n",
       "      <td>1.568482</td>\n",
       "      <td>11</td>\n",
       "    </tr>\n",
       "    <tr>\n",
       "      <th>2014-12-08 13:26:22</th>\n",
       "      <td>SK vs dignitas GRAND FINAL 99Damage Masters Pl...</td>\n",
       "      <td>6737329</td>\n",
       "      <td>430.931061</td>\n",
       "      <td>1418045182</td>\n",
       "      <td>DE</td>\n",
       "      <td>False</td>\n",
       "      <td>55</td>\n",
       "      <td>0.272727</td>\n",
       "      <td>0</td>\n",
       "      <td>1.000000</td>\n",
       "      <td>0.25</td>\n",
       "      <td>1.572317</td>\n",
       "      <td>12</td>\n",
       "    </tr>\n",
       "    <tr>\n",
       "      <th>2012-06-07 17:49:51</th>\n",
       "      <td>Discutez. Partagez. Soyez complices. Tout simp...</td>\n",
       "      <td>7053032</td>\n",
       "      <td>187.750597</td>\n",
       "      <td>1339091391</td>\n",
       "      <td></td>\n",
       "      <td>False</td>\n",
       "      <td>53</td>\n",
       "      <td>0.075472</td>\n",
       "      <td>0</td>\n",
       "      <td>0.000000</td>\n",
       "      <td>0.00</td>\n",
       "      <td>1.576897</td>\n",
       "      <td>11</td>\n",
       "    </tr>\n",
       "    <tr>\n",
       "      <th>2014-02-04 19:35:18</th>\n",
       "      <td>Baby Panda Sneezing</td>\n",
       "      <td>24397134</td>\n",
       "      <td>1060.919978</td>\n",
       "      <td>1391542518</td>\n",
       "      <td>FR</td>\n",
       "      <td>False</td>\n",
       "      <td>19</td>\n",
       "      <td>0.157895</td>\n",
       "      <td>0</td>\n",
       "      <td>0.000000</td>\n",
       "      <td>0.00</td>\n",
       "      <td>1.700998</td>\n",
       "      <td>13</td>\n",
       "    </tr>\n",
       "    <tr>\n",
       "      <th>2015-06-02 15:15:12</th>\n",
       "      <td>ALLAH ka mojza</td>\n",
       "      <td>6594888</td>\n",
       "      <td>578.065872</td>\n",
       "      <td>1433258112</td>\n",
       "      <td>US</td>\n",
       "      <td>False</td>\n",
       "      <td>14</td>\n",
       "      <td>0.357143</td>\n",
       "      <td>0</td>\n",
       "      <td>0.000000</td>\n",
       "      <td>0.00</td>\n",
       "      <td>1.570181</td>\n",
       "      <td>12</td>\n",
       "    </tr>\n",
       "  </tbody>\n",
       "</table>\n",
       "</div>"
      ],
      "text/plain": [
       "                                                                 title  \\\n",
       "time_index                                                               \n",
       "2012-03-29 12:30:41  Le tchat Facebook est encore plus simple depui...   \n",
       "2014-12-08 13:26:22  SK vs dignitas GRAND FINAL 99Damage Masters Pl...   \n",
       "2012-06-07 17:49:51  Discutez. Partagez. Soyez complices. Tout simp...   \n",
       "2014-02-04 19:35:18                                Baby Panda Sneezing   \n",
       "2015-06-02 15:15:12                                     ALLAH ka mojza   \n",
       "\n",
       "                     views_total  views_per_hour  created_time country  \\\n",
       "time_index                                                               \n",
       "2012-03-29 12:30:41      6483800      165.186959    1333024241           \n",
       "2014-12-08 13:26:22      6737329      430.931061    1418045182      DE   \n",
       "2012-06-07 17:49:51      7053032      187.750597    1339091391           \n",
       "2014-02-04 19:35:18     24397134     1060.919978    1391542518      FR   \n",
       "2015-06-02 15:15:12      6594888      578.065872    1433258112      US   \n",
       "\n",
       "                    has_blacklist_words  title_length  title_caps_percent  \\\n",
       "time_index                                                                  \n",
       "2012-03-29 12:30:41               False            57            0.052632   \n",
       "2014-12-08 13:26:22               False            55            0.272727   \n",
       "2012-06-07 17:49:51               False            53            0.075472   \n",
       "2014-02-04 19:35:18               False            19            0.157895   \n",
       "2015-06-02 15:15:12               False            14            0.357143   \n",
       "\n",
       "                     link_count  subjectivity  polarity  views_score  \\\n",
       "time_index                                                             \n",
       "2012-03-29 12:30:41           0      0.357143      0.00     1.568482   \n",
       "2014-12-08 13:26:22           0      1.000000      0.25     1.572317   \n",
       "2012-06-07 17:49:51           0      0.000000      0.00     1.576897   \n",
       "2014-02-04 19:35:18           0      0.000000      0.00     1.700998   \n",
       "2015-06-02 15:15:12           0      0.000000      0.00     1.570181   \n",
       "\n",
       "                     views_level  \n",
       "time_index                        \n",
       "2012-03-29 12:30:41           11  \n",
       "2014-12-08 13:26:22           12  \n",
       "2012-06-07 17:49:51           11  \n",
       "2014-02-04 19:35:18           13  \n",
       "2015-06-02 15:15:12           12  "
      ]
     },
     "execution_count": 10,
     "metadata": {},
     "output_type": "execute_result"
    }
   ],
   "source": [
    "videos_ts_index = pd.to_datetime(videos['created_time'],unit=\"s\")\n",
    "videos['time_index'] = videos_ts_index\n",
    "videos_ts = videos.set_index('time_index')\n",
    "videos_ts.head()"
   ]
  },
  {
   "cell_type": "code",
   "execution_count": 11,
   "metadata": {
    "collapsed": false
   },
   "outputs": [
    {
     "data": {
      "text/plain": [
       "Pipeline(steps=[('vectorizer', TfidfVectorizer(analyzer=u'word', binary=False, decode_error=u'strict',\n",
       "        dtype=<type 'numpy.int64'>, encoding=u'utf-8', input=u'content',\n",
       "        lowercase=True, max_df=1.0, max_features=None, min_df=1,\n",
       "        ngram_range=(1, 1), norm=u'l2', preprocessor=None, smooth_id...ty='l1', random_state=None, solver='liblinear', tol=0.0001,\n",
       "          verbose=0, warm_start=False))])"
      ]
     },
     "execution_count": 11,
     "metadata": {},
     "output_type": "execute_result"
    }
   ],
   "source": [
    "m1 = Pipeline([\n",
    "    ('vectorizer', TfidfVectorizer()),\n",
    "    ('classifier', LogisticRegression(penalty='l1', C=10))\n",
    "])\n",
    "m1.fit(videos['title'], videos['views_level'])\n",
    "\n",
    "m2 = Pipeline([\n",
    "    ('vectorizer', TfidfVectorizer()),\n",
    "    ('classifier', LogisticRegression(penalty='l1', C=10))\n",
    "])\n",
    "m2.fit(videos['title'], videos['has_blacklist_words'])"
   ]
  },
  {
   "cell_type": "code",
   "execution_count": 12,
   "metadata": {
    "collapsed": false
   },
   "outputs": [
    {
     "name": "stdout",
     "output_type": "stream",
     "text": [
      "\n",
      "20 most discriminating words:\n",
      "türkiyem      1.622557e+01\n",
      "octopus       1.601214e+01\n",
      "pas           1.421971e+01\n",
      "maradona      1.341686e+01\n",
      "mario         1.193783e+01\n",
      "jerome        1.159743e+01\n",
      "s01e04        1.151880e+01\n",
      "rated         1.130200e+01\n",
      "raise         1.091114e+01\n",
      "depeche       9.390475e+00\n",
      "backstreet    9.123092e+00\n",
      "litre         9.079748e+00\n",
      "sex           8.850643e+00\n",
      "spice         8.679066e+00\n",
      "lebanner      8.375513e+00\n",
      "people        7.938260e+00\n",
      "call          7.293317e+00\n",
      "stop          6.949888e+00\n",
      "inglaterra    6.589540e+00\n",
      "mariah        6.103851e+00\n",
      "uk            5.884684e+00\n",
      "christmas     5.872571e+00\n",
      "vjs           5.381618e+00\n",
      "carey         5.171844e+00\n",
      "you           4.633684e+00\n",
      "want          3.408740e+00\n",
      "body          2.489318e+00\n",
      "me            1.776505e+00\n",
      "let           1.096063e+00\n",
      "sapp          7.258797e-01\n",
      "vu            6.718195e-01\n",
      "funny        -3.147315e-01\n",
      "office        2.092875e-01\n",
      "hot          -9.802888e-03\n",
      "pris          5.228605e-07\n",
      "interdit      3.561696e-07\n",
      "genk         -9.780489e-13\n",
      "husic        -9.644902e-13\n",
      "านกล         -9.016033e-13\n",
      "tasty        -7.533875e-13\n",
      "dtype: float64\n"
     ]
    }
   ],
   "source": [
    "vec, clf = m1.named_steps['vectorizer'], m1.named_steps['classifier']\n",
    "coefs = pd.Series(clf.coef_[0], index=vec.get_feature_names())\n",
    "print(\"\\n20 most discriminating words:\")\n",
    "print(coefs[coefs.abs().sort_values(ascending=False).index][:40])"
   ]
  },
  {
   "cell_type": "code",
   "execution_count": 13,
   "metadata": {
    "collapsed": false
   },
   "outputs": [
    {
     "data": {
      "text/plain": [
       "['models']"
      ]
     },
     "execution_count": 13,
     "metadata": {},
     "output_type": "execute_result"
    }
   ],
   "source": [
    "from sklearn.externals import joblib\n",
    "\n",
    "joblib.dump({'video_views_predictor': m1, 'is_spam': m2}, './_models/video-trend', compress=9)"
   ]
  },
  {
   "cell_type": "code",
   "execution_count": 22,
   "metadata": {
    "collapsed": false
   },
   "outputs": [
    {
     "data": {
      "text/plain": [
       "0.0"
      ]
     },
     "execution_count": 22,
     "metadata": {},
     "output_type": "execute_result"
    }
   ],
   "source": [
    "p = float(m2.predict(['trump'])[0])\n",
    "p"
   ]
  },
  {
   "cell_type": "code",
   "execution_count": null,
   "metadata": {
    "collapsed": true
   },
   "outputs": [],
   "source": []
  },
  {
   "cell_type": "code",
   "execution_count": null,
   "metadata": {
    "collapsed": true
   },
   "outputs": [],
   "source": []
  },
  {
   "cell_type": "code",
   "execution_count": null,
   "metadata": {
    "collapsed": true
   },
   "outputs": [],
   "source": []
  },
  {
   "cell_type": "code",
   "execution_count": null,
   "metadata": {
    "collapsed": true
   },
   "outputs": [],
   "source": []
  },
  {
   "cell_type": "code",
   "execution_count": null,
   "metadata": {
    "collapsed": true
   },
   "outputs": [],
   "source": []
  },
  {
   "cell_type": "code",
   "execution_count": null,
   "metadata": {
    "collapsed": true
   },
   "outputs": [],
   "source": []
  },
  {
   "cell_type": "code",
   "execution_count": null,
   "metadata": {
    "collapsed": true
   },
   "outputs": [],
   "source": []
  },
  {
   "cell_type": "code",
   "execution_count": null,
   "metadata": {
    "collapsed": true
   },
   "outputs": [],
   "source": []
  },
  {
   "cell_type": "code",
   "execution_count": null,
   "metadata": {
    "collapsed": true
   },
   "outputs": [],
   "source": []
  }
 ],
 "metadata": {
  "kernelspec": {
   "display_name": "Python 2",
   "language": "python",
   "name": "python2"
  },
  "language_info": {
   "codemirror_mode": {
    "name": "ipython",
    "version": 2
   },
   "file_extension": ".py",
   "mimetype": "text/x-python",
   "name": "python",
   "nbconvert_exporter": "python",
   "pygments_lexer": "ipython2",
   "version": "2.7.12"
  }
 },
 "nbformat": 4,
 "nbformat_minor": 0
}
